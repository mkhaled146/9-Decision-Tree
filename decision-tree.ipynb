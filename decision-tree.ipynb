{
 "cells": [
  {
   "cell_type": "code",
   "execution_count": 1,
   "id": "cd2fd679",
   "metadata": {
    "_cell_guid": "b1076dfc-b9ad-4769-8c92-a6c4dae69d19",
    "_uuid": "8f2839f25d086af736a60e9eeb907d3b93b6e0e5",
    "execution": {
     "iopub.execute_input": "2023-07-26T12:07:12.314056Z",
     "iopub.status.busy": "2023-07-26T12:07:12.313516Z",
     "iopub.status.idle": "2023-07-26T12:07:14.550951Z",
     "shell.execute_reply": "2023-07-26T12:07:14.549876Z"
    },
    "papermill": {
     "duration": 2.248518,
     "end_time": "2023-07-26T12:07:14.553759",
     "exception": false,
     "start_time": "2023-07-26T12:07:12.305241",
     "status": "completed"
    },
    "tags": []
   },
   "outputs": [
    {
     "name": "stderr",
     "output_type": "stream",
     "text": [
      "/opt/conda/lib/python3.10/site-packages/scipy/__init__.py:146: UserWarning: A NumPy version >=1.16.5 and <1.23.0 is required for this version of SciPy (detected version 1.23.5\n",
      "  warnings.warn(f\"A NumPy version >={np_minversion} and <{np_maxversion}\"\n"
     ]
    }
   ],
   "source": [
    "import numpy as np\n",
    "import pandas as pd\n",
    "import seaborn as sns\n",
    "from sklearn.svm import SVC\n",
    "from sklearn.model_selection import train_test_split\n",
    "from sklearn.preprocessing import StandardScaler\n",
    "from sklearn.metrics import confusion_matrix, classification_report, accuracy_score\n",
    "from sklearn.tree import DecisionTreeClassifier"
   ]
  },
  {
   "cell_type": "code",
   "execution_count": 2,
   "id": "a9120735",
   "metadata": {
    "execution": {
     "iopub.execute_input": "2023-07-26T12:07:14.567666Z",
     "iopub.status.busy": "2023-07-26T12:07:14.566559Z",
     "iopub.status.idle": "2023-07-26T12:07:14.587806Z",
     "shell.execute_reply": "2023-07-26T12:07:14.586840Z"
    },
    "papermill": {
     "duration": 0.030803,
     "end_time": "2023-07-26T12:07:14.590396",
     "exception": false,
     "start_time": "2023-07-26T12:07:14.559593",
     "status": "completed"
    },
    "tags": []
   },
   "outputs": [],
   "source": [
    "df=pd.read_csv('../input/social-network-ads/Social_Network_Ads.csv')"
   ]
  },
  {
   "cell_type": "code",
   "execution_count": 3,
   "id": "2b950490",
   "metadata": {
    "execution": {
     "iopub.execute_input": "2023-07-26T12:07:14.603577Z",
     "iopub.status.busy": "2023-07-26T12:07:14.603093Z",
     "iopub.status.idle": "2023-07-26T12:07:14.627356Z",
     "shell.execute_reply": "2023-07-26T12:07:14.626411Z"
    },
    "papermill": {
     "duration": 0.033719,
     "end_time": "2023-07-26T12:07:14.629819",
     "exception": false,
     "start_time": "2023-07-26T12:07:14.596100",
     "status": "completed"
    },
    "tags": []
   },
   "outputs": [
    {
     "data": {
      "text/html": [
       "<div>\n",
       "<style scoped>\n",
       "    .dataframe tbody tr th:only-of-type {\n",
       "        vertical-align: middle;\n",
       "    }\n",
       "\n",
       "    .dataframe tbody tr th {\n",
       "        vertical-align: top;\n",
       "    }\n",
       "\n",
       "    .dataframe thead th {\n",
       "        text-align: right;\n",
       "    }\n",
       "</style>\n",
       "<table border=\"1\" class=\"dataframe\">\n",
       "  <thead>\n",
       "    <tr style=\"text-align: right;\">\n",
       "      <th></th>\n",
       "      <th>Age</th>\n",
       "      <th>EstimatedSalary</th>\n",
       "      <th>Purchased</th>\n",
       "    </tr>\n",
       "  </thead>\n",
       "  <tbody>\n",
       "    <tr>\n",
       "      <th>0</th>\n",
       "      <td>19</td>\n",
       "      <td>19000</td>\n",
       "      <td>0</td>\n",
       "    </tr>\n",
       "    <tr>\n",
       "      <th>1</th>\n",
       "      <td>35</td>\n",
       "      <td>20000</td>\n",
       "      <td>0</td>\n",
       "    </tr>\n",
       "    <tr>\n",
       "      <th>2</th>\n",
       "      <td>26</td>\n",
       "      <td>43000</td>\n",
       "      <td>0</td>\n",
       "    </tr>\n",
       "    <tr>\n",
       "      <th>3</th>\n",
       "      <td>27</td>\n",
       "      <td>57000</td>\n",
       "      <td>0</td>\n",
       "    </tr>\n",
       "    <tr>\n",
       "      <th>4</th>\n",
       "      <td>19</td>\n",
       "      <td>76000</td>\n",
       "      <td>0</td>\n",
       "    </tr>\n",
       "  </tbody>\n",
       "</table>\n",
       "</div>"
      ],
      "text/plain": [
       "   Age  EstimatedSalary  Purchased\n",
       "0   19            19000          0\n",
       "1   35            20000          0\n",
       "2   26            43000          0\n",
       "3   27            57000          0\n",
       "4   19            76000          0"
      ]
     },
     "execution_count": 3,
     "metadata": {},
     "output_type": "execute_result"
    }
   ],
   "source": [
    "df.head()"
   ]
  },
  {
   "cell_type": "markdown",
   "id": "21d5d7b6",
   "metadata": {
    "papermill": {
     "duration": 0.005655,
     "end_time": "2023-07-26T12:07:14.641307",
     "exception": false,
     "start_time": "2023-07-26T12:07:14.635652",
     "status": "completed"
    },
    "tags": []
   },
   "source": [
    "# Split"
   ]
  },
  {
   "cell_type": "code",
   "execution_count": 4,
   "id": "d634e5c6",
   "metadata": {
    "execution": {
     "iopub.execute_input": "2023-07-26T12:07:14.655511Z",
     "iopub.status.busy": "2023-07-26T12:07:14.654758Z",
     "iopub.status.idle": "2023-07-26T12:07:14.667900Z",
     "shell.execute_reply": "2023-07-26T12:07:14.667016Z"
    },
    "papermill": {
     "duration": 0.023047,
     "end_time": "2023-07-26T12:07:14.670419",
     "exception": false,
     "start_time": "2023-07-26T12:07:14.647372",
     "status": "completed"
    },
    "tags": []
   },
   "outputs": [],
   "source": [
    "x = df[['Age','EstimatedSalary']]\n",
    "y = df['Purchased']"
   ]
  },
  {
   "cell_type": "markdown",
   "id": "062f2abe",
   "metadata": {
    "papermill": {
     "duration": 0.005631,
     "end_time": "2023-07-26T12:07:14.682041",
     "exception": false,
     "start_time": "2023-07-26T12:07:14.676410",
     "status": "completed"
    },
    "tags": []
   },
   "source": [
    "# Scale The Data"
   ]
  },
  {
   "cell_type": "code",
   "execution_count": 5,
   "id": "64569a2b",
   "metadata": {
    "execution": {
     "iopub.execute_input": "2023-07-26T12:07:14.695565Z",
     "iopub.status.busy": "2023-07-26T12:07:14.695137Z",
     "iopub.status.idle": "2023-07-26T12:07:14.706780Z",
     "shell.execute_reply": "2023-07-26T12:07:14.705503Z"
    },
    "papermill": {
     "duration": 0.021246,
     "end_time": "2023-07-26T12:07:14.709308",
     "exception": false,
     "start_time": "2023-07-26T12:07:14.688062",
     "status": "completed"
    },
    "tags": []
   },
   "outputs": [],
   "source": [
    "scaler = StandardScaler()\n",
    "x = scaler.fit_transform(x)"
   ]
  },
  {
   "cell_type": "markdown",
   "id": "2d820deb",
   "metadata": {
    "papermill": {
     "duration": 0.005519,
     "end_time": "2023-07-26T12:07:14.720692",
     "exception": false,
     "start_time": "2023-07-26T12:07:14.715173",
     "status": "completed"
    },
    "tags": []
   },
   "source": [
    "# Train Test Split"
   ]
  },
  {
   "cell_type": "code",
   "execution_count": 6,
   "id": "6d794ee9",
   "metadata": {
    "execution": {
     "iopub.execute_input": "2023-07-26T12:07:14.734849Z",
     "iopub.status.busy": "2023-07-26T12:07:14.734286Z",
     "iopub.status.idle": "2023-07-26T12:07:14.741259Z",
     "shell.execute_reply": "2023-07-26T12:07:14.740383Z"
    },
    "papermill": {
     "duration": 0.016918,
     "end_time": "2023-07-26T12:07:14.743507",
     "exception": false,
     "start_time": "2023-07-26T12:07:14.726589",
     "status": "completed"
    },
    "tags": []
   },
   "outputs": [],
   "source": [
    "x_train, x_test, y_train, y_test = train_test_split(x, y)"
   ]
  },
  {
   "cell_type": "markdown",
   "id": "84091cc0",
   "metadata": {
    "papermill": {
     "duration": 0.00552,
     "end_time": "2023-07-26T12:07:14.754968",
     "exception": false,
     "start_time": "2023-07-26T12:07:14.749448",
     "status": "completed"
    },
    "tags": []
   },
   "source": [
    "# Model "
   ]
  },
  {
   "cell_type": "code",
   "execution_count": 7,
   "id": "18a8ae1b",
   "metadata": {
    "execution": {
     "iopub.execute_input": "2023-07-26T12:07:14.770240Z",
     "iopub.status.busy": "2023-07-26T12:07:14.769422Z",
     "iopub.status.idle": "2023-07-26T12:07:14.786073Z",
     "shell.execute_reply": "2023-07-26T12:07:14.785287Z"
    },
    "papermill": {
     "duration": 0.026092,
     "end_time": "2023-07-26T12:07:14.788356",
     "exception": false,
     "start_time": "2023-07-26T12:07:14.762264",
     "status": "completed"
    },
    "tags": []
   },
   "outputs": [
    {
     "data": {
      "text/html": [
       "<style>#sk-container-id-1 {color: black;background-color: white;}#sk-container-id-1 pre{padding: 0;}#sk-container-id-1 div.sk-toggleable {background-color: white;}#sk-container-id-1 label.sk-toggleable__label {cursor: pointer;display: block;width: 100%;margin-bottom: 0;padding: 0.3em;box-sizing: border-box;text-align: center;}#sk-container-id-1 label.sk-toggleable__label-arrow:before {content: \"▸\";float: left;margin-right: 0.25em;color: #696969;}#sk-container-id-1 label.sk-toggleable__label-arrow:hover:before {color: black;}#sk-container-id-1 div.sk-estimator:hover label.sk-toggleable__label-arrow:before {color: black;}#sk-container-id-1 div.sk-toggleable__content {max-height: 0;max-width: 0;overflow: hidden;text-align: left;background-color: #f0f8ff;}#sk-container-id-1 div.sk-toggleable__content pre {margin: 0.2em;color: black;border-radius: 0.25em;background-color: #f0f8ff;}#sk-container-id-1 input.sk-toggleable__control:checked~div.sk-toggleable__content {max-height: 200px;max-width: 100%;overflow: auto;}#sk-container-id-1 input.sk-toggleable__control:checked~label.sk-toggleable__label-arrow:before {content: \"▾\";}#sk-container-id-1 div.sk-estimator input.sk-toggleable__control:checked~label.sk-toggleable__label {background-color: #d4ebff;}#sk-container-id-1 div.sk-label input.sk-toggleable__control:checked~label.sk-toggleable__label {background-color: #d4ebff;}#sk-container-id-1 input.sk-hidden--visually {border: 0;clip: rect(1px 1px 1px 1px);clip: rect(1px, 1px, 1px, 1px);height: 1px;margin: -1px;overflow: hidden;padding: 0;position: absolute;width: 1px;}#sk-container-id-1 div.sk-estimator {font-family: monospace;background-color: #f0f8ff;border: 1px dotted black;border-radius: 0.25em;box-sizing: border-box;margin-bottom: 0.5em;}#sk-container-id-1 div.sk-estimator:hover {background-color: #d4ebff;}#sk-container-id-1 div.sk-parallel-item::after {content: \"\";width: 100%;border-bottom: 1px solid gray;flex-grow: 1;}#sk-container-id-1 div.sk-label:hover label.sk-toggleable__label {background-color: #d4ebff;}#sk-container-id-1 div.sk-serial::before {content: \"\";position: absolute;border-left: 1px solid gray;box-sizing: border-box;top: 0;bottom: 0;left: 50%;z-index: 0;}#sk-container-id-1 div.sk-serial {display: flex;flex-direction: column;align-items: center;background-color: white;padding-right: 0.2em;padding-left: 0.2em;position: relative;}#sk-container-id-1 div.sk-item {position: relative;z-index: 1;}#sk-container-id-1 div.sk-parallel {display: flex;align-items: stretch;justify-content: center;background-color: white;position: relative;}#sk-container-id-1 div.sk-item::before, #sk-container-id-1 div.sk-parallel-item::before {content: \"\";position: absolute;border-left: 1px solid gray;box-sizing: border-box;top: 0;bottom: 0;left: 50%;z-index: -1;}#sk-container-id-1 div.sk-parallel-item {display: flex;flex-direction: column;z-index: 1;position: relative;background-color: white;}#sk-container-id-1 div.sk-parallel-item:first-child::after {align-self: flex-end;width: 50%;}#sk-container-id-1 div.sk-parallel-item:last-child::after {align-self: flex-start;width: 50%;}#sk-container-id-1 div.sk-parallel-item:only-child::after {width: 0;}#sk-container-id-1 div.sk-dashed-wrapped {border: 1px dashed gray;margin: 0 0.4em 0.5em 0.4em;box-sizing: border-box;padding-bottom: 0.4em;background-color: white;}#sk-container-id-1 div.sk-label label {font-family: monospace;font-weight: bold;display: inline-block;line-height: 1.2em;}#sk-container-id-1 div.sk-label-container {text-align: center;}#sk-container-id-1 div.sk-container {/* jupyter's `normalize.less` sets `[hidden] { display: none; }` but bootstrap.min.css set `[hidden] { display: none !important; }` so we also need the `!important` here to be able to override the default hidden behavior on the sphinx rendered scikit-learn.org. See: https://github.com/scikit-learn/scikit-learn/issues/21755 */display: inline-block !important;position: relative;}#sk-container-id-1 div.sk-text-repr-fallback {display: none;}</style><div id=\"sk-container-id-1\" class=\"sk-top-container\"><div class=\"sk-text-repr-fallback\"><pre>DecisionTreeClassifier()</pre><b>In a Jupyter environment, please rerun this cell to show the HTML representation or trust the notebook. <br />On GitHub, the HTML representation is unable to render, please try loading this page with nbviewer.org.</b></div><div class=\"sk-container\" hidden><div class=\"sk-item\"><div class=\"sk-estimator sk-toggleable\"><input class=\"sk-toggleable__control sk-hidden--visually\" id=\"sk-estimator-id-1\" type=\"checkbox\" checked><label for=\"sk-estimator-id-1\" class=\"sk-toggleable__label sk-toggleable__label-arrow\">DecisionTreeClassifier</label><div class=\"sk-toggleable__content\"><pre>DecisionTreeClassifier()</pre></div></div></div></div></div>"
      ],
      "text/plain": [
       "DecisionTreeClassifier()"
      ]
     },
     "execution_count": 7,
     "metadata": {},
     "output_type": "execute_result"
    }
   ],
   "source": [
    "model = DecisionTreeClassifier()\n",
    "model.fit(x_train,y_train)"
   ]
  },
  {
   "cell_type": "markdown",
   "id": "703f64ff",
   "metadata": {
    "papermill": {
     "duration": 0.00568,
     "end_time": "2023-07-26T12:07:14.800136",
     "exception": false,
     "start_time": "2023-07-26T12:07:14.794456",
     "status": "completed"
    },
    "tags": []
   },
   "source": [
    "# Predict And Accuracy"
   ]
  },
  {
   "cell_type": "code",
   "execution_count": 8,
   "id": "18e516dc",
   "metadata": {
    "execution": {
     "iopub.execute_input": "2023-07-26T12:07:14.814259Z",
     "iopub.status.busy": "2023-07-26T12:07:14.813553Z",
     "iopub.status.idle": "2023-07-26T12:07:14.820060Z",
     "shell.execute_reply": "2023-07-26T12:07:14.819339Z"
    },
    "papermill": {
     "duration": 0.01611,
     "end_time": "2023-07-26T12:07:14.822295",
     "exception": false,
     "start_time": "2023-07-26T12:07:14.806185",
     "status": "completed"
    },
    "tags": []
   },
   "outputs": [
    {
     "data": {
      "text/plain": [
       "array([0, 1, 0, 0, 0, 0, 1, 1, 0, 1, 0, 0, 1, 0, 0, 0, 1, 1, 1, 0, 0, 0,\n",
       "       1, 0, 0, 0, 0, 0, 1, 0, 0, 1, 0, 1, 0, 0, 0, 0, 0, 0, 0, 0, 0, 1,\n",
       "       0, 0, 1, 1, 0, 0, 0, 0, 0, 1, 0, 1, 1, 1, 0, 0, 0, 1, 0, 1, 0, 0,\n",
       "       0, 0, 0, 0, 0, 1, 0, 0, 0, 1, 1, 0, 0, 1, 0, 0, 1, 0, 0, 1, 0, 0,\n",
       "       1, 0, 0, 0, 0, 1, 0, 0, 1, 0, 0, 1])"
      ]
     },
     "execution_count": 8,
     "metadata": {},
     "output_type": "execute_result"
    }
   ],
   "source": [
    "y_pred = model.predict(x_test)\n",
    "y_pred"
   ]
  },
  {
   "cell_type": "code",
   "execution_count": 9,
   "id": "92de0332",
   "metadata": {
    "execution": {
     "iopub.execute_input": "2023-07-26T12:07:14.836886Z",
     "iopub.status.busy": "2023-07-26T12:07:14.836194Z",
     "iopub.status.idle": "2023-07-26T12:07:14.843147Z",
     "shell.execute_reply": "2023-07-26T12:07:14.842372Z"
    },
    "papermill": {
     "duration": 0.016785,
     "end_time": "2023-07-26T12:07:14.845315",
     "exception": false,
     "start_time": "2023-07-26T12:07:14.828530",
     "status": "completed"
    },
    "tags": []
   },
   "outputs": [
    {
     "data": {
      "text/plain": [
       "0.89"
      ]
     },
     "execution_count": 9,
     "metadata": {},
     "output_type": "execute_result"
    }
   ],
   "source": [
    "accuracy_score(y_test,y_pred)"
   ]
  },
  {
   "cell_type": "code",
   "execution_count": 10,
   "id": "f164f09e",
   "metadata": {
    "execution": {
     "iopub.execute_input": "2023-07-26T12:07:14.860340Z",
     "iopub.status.busy": "2023-07-26T12:07:14.859609Z",
     "iopub.status.idle": "2023-07-26T12:07:14.864087Z",
     "shell.execute_reply": "2023-07-26T12:07:14.863285Z"
    },
    "papermill": {
     "duration": 0.014483,
     "end_time": "2023-07-26T12:07:14.866300",
     "exception": false,
     "start_time": "2023-07-26T12:07:14.851817",
     "status": "completed"
    },
    "tags": []
   },
   "outputs": [],
   "source": [
    "from sklearn import tree"
   ]
  },
  {
   "cell_type": "code",
   "execution_count": 11,
   "id": "bbd6a68b",
   "metadata": {
    "execution": {
     "iopub.execute_input": "2023-07-26T12:07:14.881038Z",
     "iopub.status.busy": "2023-07-26T12:07:14.880335Z",
     "iopub.status.idle": "2023-07-26T12:07:19.453261Z",
     "shell.execute_reply": "2023-07-26T12:07:19.451785Z"
    },
    "papermill": {
     "duration": 4.583312,
     "end_time": "2023-07-26T12:07:19.455931",
     "exception": false,
     "start_time": "2023-07-26T12:07:14.872619",
     "status": "completed"
    },
    "tags": []
   },
   "outputs": [
    {
     "data": {
      "text/plain": [
       "[Text(0.42151162790697677, 0.96875, 'x[0] <= 0.463\\ngini = 0.463\\nsamples = 300\\nvalue = [191, 109]'),\n",
       " Text(0.20930232558139536, 0.90625, 'x[1] <= 0.61\\ngini = 0.269\\nsamples = 206\\nvalue = [173, 33]'),\n",
       " Text(0.11627906976744186, 0.84375, 'x[0] <= 0.367\\ngini = 0.077\\nsamples = 175\\nvalue = [168, 7]'),\n",
       " Text(0.046511627906976744, 0.78125, 'x[0] <= -0.11\\ngini = 0.048\\nsamples = 163\\nvalue = [159, 4]'),\n",
       " Text(0.023255813953488372, 0.71875, 'gini = 0.0\\nsamples = 116\\nvalue = [116, 0]'),\n",
       " Text(0.06976744186046512, 0.71875, 'x[1] <= -0.066\\ngini = 0.156\\nsamples = 47\\nvalue = [43, 4]'),\n",
       " Text(0.046511627906976744, 0.65625, 'gini = 0.0\\nsamples = 25\\nvalue = [25, 0]'),\n",
       " Text(0.09302325581395349, 0.65625, 'x[1] <= 0.022\\ngini = 0.298\\nsamples = 22\\nvalue = [18, 4]'),\n",
       " Text(0.06976744186046512, 0.59375, 'gini = 0.0\\nsamples = 1\\nvalue = [0, 1]'),\n",
       " Text(0.11627906976744186, 0.59375, 'x[0] <= -0.015\\ngini = 0.245\\nsamples = 21\\nvalue = [18, 3]'),\n",
       " Text(0.046511627906976744, 0.53125, 'x[1] <= 0.198\\ngini = 0.375\\nsamples = 8\\nvalue = [6, 2]'),\n",
       " Text(0.023255813953488372, 0.46875, 'gini = 0.0\\nsamples = 4\\nvalue = [4, 0]'),\n",
       " Text(0.06976744186046512, 0.46875, 'x[1] <= 0.287\\ngini = 0.5\\nsamples = 4\\nvalue = [2, 2]'),\n",
       " Text(0.046511627906976744, 0.40625, 'gini = 0.0\\nsamples = 2\\nvalue = [0, 2]'),\n",
       " Text(0.09302325581395349, 0.40625, 'gini = 0.0\\nsamples = 2\\nvalue = [2, 0]'),\n",
       " Text(0.18604651162790697, 0.53125, 'x[1] <= 0.052\\ngini = 0.142\\nsamples = 13\\nvalue = [12, 1]'),\n",
       " Text(0.16279069767441862, 0.46875, 'x[0] <= 0.176\\ngini = 0.375\\nsamples = 4\\nvalue = [3, 1]'),\n",
       " Text(0.13953488372093023, 0.40625, 'gini = 0.0\\nsamples = 3\\nvalue = [3, 0]'),\n",
       " Text(0.18604651162790697, 0.40625, 'gini = 0.0\\nsamples = 1\\nvalue = [0, 1]'),\n",
       " Text(0.20930232558139536, 0.46875, 'gini = 0.0\\nsamples = 9\\nvalue = [9, 0]'),\n",
       " Text(0.18604651162790697, 0.78125, 'x[1] <= -0.022\\ngini = 0.375\\nsamples = 12\\nvalue = [9, 3]'),\n",
       " Text(0.16279069767441862, 0.71875, 'gini = 0.0\\nsamples = 6\\nvalue = [6, 0]'),\n",
       " Text(0.20930232558139536, 0.71875, 'x[1] <= 0.125\\ngini = 0.5\\nsamples = 6\\nvalue = [3, 3]'),\n",
       " Text(0.18604651162790697, 0.65625, 'gini = 0.0\\nsamples = 1\\nvalue = [0, 1]'),\n",
       " Text(0.23255813953488372, 0.65625, 'x[1] <= 0.287\\ngini = 0.48\\nsamples = 5\\nvalue = [3, 2]'),\n",
       " Text(0.20930232558139536, 0.59375, 'gini = 0.0\\nsamples = 2\\nvalue = [2, 0]'),\n",
       " Text(0.2558139534883721, 0.59375, 'x[1] <= 0.448\\ngini = 0.444\\nsamples = 3\\nvalue = [1, 2]'),\n",
       " Text(0.23255813953488372, 0.53125, 'gini = 0.5\\nsamples = 2\\nvalue = [1, 1]'),\n",
       " Text(0.27906976744186046, 0.53125, 'gini = 0.0\\nsamples = 1\\nvalue = [0, 1]'),\n",
       " Text(0.3023255813953488, 0.84375, 'x[0] <= -1.065\\ngini = 0.271\\nsamples = 31\\nvalue = [5, 26]'),\n",
       " Text(0.27906976744186046, 0.78125, 'gini = 0.0\\nsamples = 1\\nvalue = [1, 0]'),\n",
       " Text(0.32558139534883723, 0.78125, 'x[1] <= 1.373\\ngini = 0.231\\nsamples = 30\\nvalue = [4, 26]'),\n",
       " Text(0.3023255813953488, 0.71875, 'x[1] <= 1.109\\ngini = 0.408\\nsamples = 14\\nvalue = [4, 10]'),\n",
       " Text(0.27906976744186046, 0.65625, 'gini = 0.0\\nsamples = 8\\nvalue = [0, 8]'),\n",
       " Text(0.32558139534883723, 0.65625, 'x[0] <= -0.11\\ngini = 0.444\\nsamples = 6\\nvalue = [4, 2]'),\n",
       " Text(0.3023255813953488, 0.59375, 'gini = 0.0\\nsamples = 3\\nvalue = [3, 0]'),\n",
       " Text(0.3488372093023256, 0.59375, 'x[1] <= 1.182\\ngini = 0.444\\nsamples = 3\\nvalue = [1, 2]'),\n",
       " Text(0.32558139534883723, 0.53125, 'gini = 0.0\\nsamples = 1\\nvalue = [0, 1]'),\n",
       " Text(0.37209302325581395, 0.53125, 'x[1] <= 1.256\\ngini = 0.5\\nsamples = 2\\nvalue = [1, 1]'),\n",
       " Text(0.3488372093023256, 0.46875, 'gini = 0.0\\nsamples = 1\\nvalue = [1, 0]'),\n",
       " Text(0.3953488372093023, 0.46875, 'gini = 0.0\\nsamples = 1\\nvalue = [0, 1]'),\n",
       " Text(0.3488372093023256, 0.71875, 'gini = 0.0\\nsamples = 16\\nvalue = [0, 16]'),\n",
       " Text(0.6337209302325582, 0.90625, 'x[0] <= 0.845\\ngini = 0.31\\nsamples = 94\\nvalue = [18, 76]'),\n",
       " Text(0.5, 0.84375, 'x[1] <= -0.521\\ngini = 0.48\\nsamples = 20\\nvalue = [8, 12]'),\n",
       " Text(0.4186046511627907, 0.78125, 'x[0] <= 0.654\\ngini = 0.346\\nsamples = 9\\nvalue = [2, 7]'),\n",
       " Text(0.3953488372093023, 0.71875, 'gini = 0.0\\nsamples = 1\\nvalue = [1, 0]'),\n",
       " Text(0.4418604651162791, 0.71875, 'x[1] <= -1.387\\ngini = 0.219\\nsamples = 8\\nvalue = [1, 7]'),\n",
       " Text(0.4186046511627907, 0.65625, 'x[0] <= 0.749\\ngini = 0.444\\nsamples = 3\\nvalue = [1, 2]'),\n",
       " Text(0.3953488372093023, 0.59375, 'gini = 0.0\\nsamples = 2\\nvalue = [0, 2]'),\n",
       " Text(0.4418604651162791, 0.59375, 'gini = 0.0\\nsamples = 1\\nvalue = [1, 0]'),\n",
       " Text(0.46511627906976744, 0.65625, 'gini = 0.0\\nsamples = 5\\nvalue = [0, 5]'),\n",
       " Text(0.5813953488372093, 0.78125, 'x[1] <= 1.006\\ngini = 0.496\\nsamples = 11\\nvalue = [6, 5]'),\n",
       " Text(0.5348837209302325, 0.71875, 'x[1] <= 0.198\\ngini = 0.278\\nsamples = 6\\nvalue = [5, 1]'),\n",
       " Text(0.5116279069767442, 0.65625, 'gini = 0.0\\nsamples = 2\\nvalue = [2, 0]'),\n",
       " Text(0.5581395348837209, 0.65625, 'x[1] <= 0.316\\ngini = 0.375\\nsamples = 4\\nvalue = [3, 1]'),\n",
       " Text(0.5348837209302325, 0.59375, 'x[0] <= 0.749\\ngini = 0.5\\nsamples = 2\\nvalue = [1, 1]'),\n",
       " Text(0.5116279069767442, 0.53125, 'gini = 0.0\\nsamples = 1\\nvalue = [1, 0]'),\n",
       " Text(0.5581395348837209, 0.53125, 'gini = 0.0\\nsamples = 1\\nvalue = [0, 1]'),\n",
       " Text(0.5813953488372093, 0.59375, 'gini = 0.0\\nsamples = 2\\nvalue = [2, 0]'),\n",
       " Text(0.627906976744186, 0.71875, 'x[1] <= 1.828\\ngini = 0.32\\nsamples = 5\\nvalue = [1, 4]'),\n",
       " Text(0.6046511627906976, 0.65625, 'gini = 0.0\\nsamples = 3\\nvalue = [0, 3]'),\n",
       " Text(0.6511627906976745, 0.65625, 'x[0] <= 0.558\\ngini = 0.5\\nsamples = 2\\nvalue = [1, 1]'),\n",
       " Text(0.627906976744186, 0.59375, 'gini = 0.0\\nsamples = 1\\nvalue = [1, 0]'),\n",
       " Text(0.6744186046511628, 0.59375, 'gini = 0.0\\nsamples = 1\\nvalue = [0, 1]'),\n",
       " Text(0.7674418604651163, 0.84375, 'x[1] <= -0.829\\ngini = 0.234\\nsamples = 74\\nvalue = [10, 64]'),\n",
       " Text(0.7441860465116279, 0.78125, 'gini = 0.0\\nsamples = 23\\nvalue = [0, 23]'),\n",
       " Text(0.7906976744186046, 0.78125, 'x[1] <= -0.727\\ngini = 0.315\\nsamples = 51\\nvalue = [10, 41]'),\n",
       " Text(0.7209302325581395, 0.71875, 'x[0] <= 2.086\\ngini = 0.48\\nsamples = 5\\nvalue = [3, 2]'),\n",
       " Text(0.6976744186046512, 0.65625, 'gini = 0.0\\nsamples = 3\\nvalue = [3, 0]'),\n",
       " Text(0.7441860465116279, 0.65625, 'gini = 0.0\\nsamples = 2\\nvalue = [0, 2]'),\n",
       " Text(0.8604651162790697, 0.71875, 'x[0] <= 1.418\\ngini = 0.258\\nsamples = 46\\nvalue = [7, 39]'),\n",
       " Text(0.7906976744186046, 0.65625, 'x[1] <= -0.638\\ngini = 0.355\\nsamples = 26\\nvalue = [6, 20]'),\n",
       " Text(0.7674418604651163, 0.59375, 'gini = 0.0\\nsamples = 1\\nvalue = [1, 0]'),\n",
       " Text(0.813953488372093, 0.59375, 'x[0] <= 0.94\\ngini = 0.32\\nsamples = 25\\nvalue = [5, 20]'),\n",
       " Text(0.7906976744186046, 0.53125, 'gini = 0.0\\nsamples = 7\\nvalue = [0, 7]'),\n",
       " Text(0.8372093023255814, 0.53125, 'x[1] <= -0.007\\ngini = 0.401\\nsamples = 18\\nvalue = [5, 13]'),\n",
       " Text(0.813953488372093, 0.46875, 'gini = 0.0\\nsamples = 1\\nvalue = [1, 0]'),\n",
       " Text(0.8604651162790697, 0.46875, 'x[1] <= 1.035\\ngini = 0.36\\nsamples = 17\\nvalue = [4, 13]'),\n",
       " Text(0.813953488372093, 0.40625, 'x[1] <= 0.301\\ngini = 0.219\\nsamples = 8\\nvalue = [1, 7]'),\n",
       " Text(0.7906976744186046, 0.34375, 'x[0] <= 1.036\\ngini = 0.5\\nsamples = 2\\nvalue = [1, 1]'),\n",
       " Text(0.7674418604651163, 0.28125, 'gini = 0.0\\nsamples = 1\\nvalue = [0, 1]'),\n",
       " Text(0.813953488372093, 0.28125, 'gini = 0.0\\nsamples = 1\\nvalue = [1, 0]'),\n",
       " Text(0.8372093023255814, 0.34375, 'gini = 0.0\\nsamples = 6\\nvalue = [0, 6]'),\n",
       " Text(0.9069767441860465, 0.40625, 'x[1] <= 1.593\\ngini = 0.444\\nsamples = 9\\nvalue = [3, 6]'),\n",
       " Text(0.8837209302325582, 0.34375, 'gini = 0.0\\nsamples = 1\\nvalue = [1, 0]'),\n",
       " Text(0.9302325581395349, 0.34375, 'x[0] <= 1.322\\ngini = 0.375\\nsamples = 8\\nvalue = [2, 6]'),\n",
       " Text(0.9069767441860465, 0.28125, 'x[1] <= 2.166\\ngini = 0.444\\nsamples = 6\\nvalue = [2, 4]'),\n",
       " Text(0.8837209302325582, 0.21875, 'x[0] <= 1.179\\ngini = 0.48\\nsamples = 5\\nvalue = [2, 3]'),\n",
       " Text(0.8604651162790697, 0.15625, 'x[1] <= 2.048\\ngini = 0.375\\nsamples = 4\\nvalue = [1, 3]'),\n",
       " Text(0.8372093023255814, 0.09375, 'gini = 0.0\\nsamples = 2\\nvalue = [0, 2]'),\n",
       " Text(0.8837209302325582, 0.09375, 'x[0] <= 1.036\\ngini = 0.5\\nsamples = 2\\nvalue = [1, 1]'),\n",
       " Text(0.8604651162790697, 0.03125, 'gini = 0.0\\nsamples = 1\\nvalue = [1, 0]'),\n",
       " Text(0.9069767441860465, 0.03125, 'gini = 0.0\\nsamples = 1\\nvalue = [0, 1]'),\n",
       " Text(0.9069767441860465, 0.15625, 'gini = 0.0\\nsamples = 1\\nvalue = [1, 0]'),\n",
       " Text(0.9302325581395349, 0.21875, 'gini = 0.0\\nsamples = 1\\nvalue = [0, 1]'),\n",
       " Text(0.9534883720930233, 0.28125, 'gini = 0.0\\nsamples = 2\\nvalue = [0, 2]'),\n",
       " Text(0.9302325581395349, 0.65625, 'x[0] <= 1.991\\ngini = 0.095\\nsamples = 20\\nvalue = [1, 19]'),\n",
       " Text(0.9069767441860465, 0.59375, 'gini = 0.0\\nsamples = 13\\nvalue = [0, 13]'),\n",
       " Text(0.9534883720930233, 0.59375, 'x[1] <= 0.668\\ngini = 0.245\\nsamples = 7\\nvalue = [1, 6]'),\n",
       " Text(0.9302325581395349, 0.53125, 'x[0] <= 2.086\\ngini = 0.444\\nsamples = 3\\nvalue = [1, 2]'),\n",
       " Text(0.9069767441860465, 0.46875, 'gini = 0.0\\nsamples = 1\\nvalue = [1, 0]'),\n",
       " Text(0.9534883720930233, 0.46875, 'gini = 0.0\\nsamples = 2\\nvalue = [0, 2]'),\n",
       " Text(0.9767441860465116, 0.53125, 'gini = 0.0\\nsamples = 4\\nvalue = [0, 4]')]"
      ]
     },
     "execution_count": 11,
     "metadata": {},
     "output_type": "execute_result"
    },
    {
     "data": {
      "image/png": "[encoded data removed]",
      "text/plain": [
       "<Figure size 640x480 with 1 Axes>"
      ]
     },
     "metadata": {},
     "output_type": "display_data"
    }
   ],
   "source": [
    "tree.plot_tree(model)"
   ]
  }
 ],
 "metadata": {
  "kernelspec": {
   "display_name": "Python 3",
   "language": "python",
   "name": "python3"
  },
  "language_info": {
   "codemirror_mode": {
    "name": "ipython",
    "version": 3
   },
   "file_extension": ".py",
   "mimetype": "text/x-python",
   "name": "python",
   "nbconvert_exporter": "python",
   "pygments_lexer": "ipython3",
   "version": "3.10.12"
  },
  "papermill": {
   "default_parameters": {},
   "duration": 21.813632,
   "end_time": "2023-07-26T12:07:20.487370",
   "environment_variables": {},
   "exception": null,
   "input_path": "__notebook__.ipynb",
   "output_path": "__notebook__.ipynb",
   "parameters": {},
   "start_time": "2023-07-26T12:06:58.673738",
   "version": "2.4.0"
  }
 },
 "nbformat": 4,
 "nbformat_minor": 5
}
